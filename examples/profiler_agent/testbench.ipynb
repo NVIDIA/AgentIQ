{
 "cells": [
  {
   "cell_type": "code",
   "execution_count": 2,
   "metadata": {},
   "outputs": [
    {
     "name": "stderr",
     "output_type": "stream",
     "text": [
      "/Users/zacw/CODE/surf-build/aiq-profiler-agent/.venv/lib/python3.12/site-packages/tqdm/auto.py:21: TqdmWarning: IProgress not found. Please update jupyter and ipywidgets. See https://ipywidgets.readthedocs.io/en/stable/user_install.html\n",
      "  from .autonotebook import tqdm as notebook_tqdm\n",
      "/Users/zacw/CODE/surf-build/aiq-profiler-agent/.venv/lib/python3.12/site-packages/phoenix/utilities/client.py:60: UserWarning: The Phoenix server (8.20.0) and client (8.22.1) versions are mismatched and may have compatibility issues.\n",
      "  warnings.warn(\n"
     ]
    },
    {
     "data": {
      "text/html": [
       "<div>\n",
       "<style scoped>\n",
       "    .dataframe tbody tr th:only-of-type {\n",
       "        vertical-align: middle;\n",
       "    }\n",
       "\n",
       "    .dataframe tbody tr th {\n",
       "        vertical-align: top;\n",
       "    }\n",
       "\n",
       "    .dataframe thead th {\n",
       "        text-align: right;\n",
       "    }\n",
       "</style>\n",
       "<table border=\"1\" class=\"dataframe\">\n",
       "  <thead>\n",
       "    <tr style=\"text-align: right;\">\n",
       "      <th></th>\n",
       "      <th>attributes.llm.token_count.prompt</th>\n",
       "      <th>attributes.llm.token_count.total</th>\n",
       "      <th>attributes.llm.token_count.completion</th>\n",
       "    </tr>\n",
       "  </thead>\n",
       "  <tbody>\n",
       "    <tr>\n",
       "      <th>count</th>\n",
       "      <td>67.000000</td>\n",
       "      <td>67.000000</td>\n",
       "      <td>67.000000</td>\n",
       "    </tr>\n",
       "    <tr>\n",
       "      <th>mean</th>\n",
       "      <td>309.343284</td>\n",
       "      <td>338.626866</td>\n",
       "      <td>29.283582</td>\n",
       "    </tr>\n",
       "    <tr>\n",
       "      <th>std</th>\n",
       "      <td>196.057857</td>\n",
       "      <td>205.407934</td>\n",
       "      <td>26.905449</td>\n",
       "    </tr>\n",
       "    <tr>\n",
       "      <th>min</th>\n",
       "      <td>0.000000</td>\n",
       "      <td>0.000000</td>\n",
       "      <td>0.000000</td>\n",
       "    </tr>\n",
       "    <tr>\n",
       "      <th>25%</th>\n",
       "      <td>129.000000</td>\n",
       "      <td>173.000000</td>\n",
       "      <td>14.000000</td>\n",
       "    </tr>\n",
       "    <tr>\n",
       "      <th>50%</th>\n",
       "      <td>331.000000</td>\n",
       "      <td>359.000000</td>\n",
       "      <td>17.000000</td>\n",
       "    </tr>\n",
       "    <tr>\n",
       "      <th>75%</th>\n",
       "      <td>485.000000</td>\n",
       "      <td>505.000000</td>\n",
       "      <td>57.000000</td>\n",
       "    </tr>\n",
       "    <tr>\n",
       "      <th>max</th>\n",
       "      <td>534.000000</td>\n",
       "      <td>584.000000</td>\n",
       "      <td>122.000000</td>\n",
       "    </tr>\n",
       "  </tbody>\n",
       "</table>\n",
       "</div>"
      ],
      "text/plain": [
       "       attributes.llm.token_count.prompt  attributes.llm.token_count.total  \\\n",
       "count                          67.000000                         67.000000   \n",
       "mean                          309.343284                        338.626866   \n",
       "std                           196.057857                        205.407934   \n",
       "min                             0.000000                          0.000000   \n",
       "25%                           129.000000                        173.000000   \n",
       "50%                           331.000000                        359.000000   \n",
       "75%                           485.000000                        505.000000   \n",
       "max                           534.000000                        584.000000   \n",
       "\n",
       "       attributes.llm.token_count.completion  \n",
       "count                              67.000000  \n",
       "mean                               29.283582  \n",
       "std                                26.905449  \n",
       "min                                 0.000000  \n",
       "25%                                14.000000  \n",
       "50%                                17.000000  \n",
       "75%                                57.000000  \n",
       "max                               122.000000  "
      ]
     },
     "execution_count": 2,
     "metadata": {},
     "output_type": "execute_result"
    }
   ],
   "source": [
    "import phoenix as px\n",
    "client = px.Client()\n",
    "df = client.get_spans_dataframe(start_time=\"2024-04-04T00:00:00Z\", end_time=\"2024-04-04T00:00:00Z\", project_name=\"default\")\n",
    "df.describe()\n"
   ]
  },
  {
   "cell_type": "code",
   "execution_count": 3,
   "metadata": {},
   "outputs": [],
   "source": [
    "df_one = df[df['context.trace_id'] == 'fd886bdf1ab29a7a306d0bfe84ccaf50']\n"
   ]
  },
  {
   "cell_type": "code",
   "execution_count": 4,
   "metadata": {},
   "outputs": [
    {
     "name": "stderr",
     "output_type": "stream",
     "text": [
      "/var/folders/5s/0dpn0v6s3bx031947gf29yqw0000gp/T/ipykernel_91044/4107582397.py:25: SettingWithCopyWarning: \n",
      "A value is trying to be set on a copy of a slice from a DataFrame.\n",
      "Try using .loc[row_indexer,col_indexer] = value instead\n",
      "\n",
      "See the caveats in the documentation: https://pandas.pydata.org/pandas-docs/stable/user_guide/indexing.html#returning-a-view-versus-a-copy\n",
      "  df_one['query'] = df_one['attributes.input.value'].apply(extract_user_query)\n"
     ]
    },
    {
     "data": {
      "text/plain": [
       "context.span_id\n",
       "5c68e0898df3dcb5                                               hello?\n",
       "4c12528cfe757b27                                               hello?\n",
       "00457833123c01f2                                                 None\n",
       "6f73b38a818677a5    hello?\\nCurrent timestamp: 2025-04-01T15:09:14...\n",
       "60d034ce029f23e6                                                 None\n",
       "790f8725d37b4027                                               hello?\n",
       "Name: query, dtype: object"
      ]
     },
     "execution_count": 4,
     "metadata": {},
     "output_type": "execute_result"
    }
   ],
   "source": [
    "import pandas as pd\n",
    "import json\n",
    "from matplotlib.patches import Patch\n",
    "\n",
    "def extract_user_query(input_value):\n",
    "    if pd.isna(input_value):\n",
    "        return None\n",
    "    try:\n",
    "        # Try to parse as JSON\n",
    "        data = json.loads(input_value.replace('\"\"', '\"'))\n",
    "        if isinstance(data, list):\n",
    "            for item in data:\n",
    "                if isinstance(item, dict) and item.get(\"type\") == \"human\":\n",
    "                    content = item.get(\"content\", \"\")\n",
    "                    # Extract the actual query which is often at the end\n",
    "                    query_marker = \"Here is the user's query: \"\n",
    "                    if query_marker in content:\n",
    "                        return content.split(query_marker)[-1].strip()\n",
    "            return None\n",
    "        elif isinstance(data, dict) and \"input_message\" in data:\n",
    "            return data.get(\"input_message\")\n",
    "    except:\n",
    "        return input_value\n",
    "    return None\n",
    "df_one['query'] = df_one['attributes.input.value'].apply(extract_user_query)\n",
    "df_one['query']\n"
   ]
  },
  {
   "cell_type": "code",
   "execution_count": 5,
   "metadata": {},
   "outputs": [
    {
     "name": "stderr",
     "output_type": "stream",
     "text": [
      "/var/folders/5s/0dpn0v6s3bx031947gf29yqw0000gp/T/ipykernel_91044/3358780717.py:1: SettingWithCopyWarning: \n",
      "A value is trying to be set on a copy of a slice from a DataFrame.\n",
      "Try using .loc[row_indexer,col_indexer] = value instead\n",
      "\n",
      "See the caveats in the documentation: https://pandas.pydata.org/pandas-docs/stable/user_guide/indexing.html#returning-a-view-versus-a-copy\n",
      "  df_one['start_time'] = pd.to_datetime(df_one['start_time'])\n",
      "/var/folders/5s/0dpn0v6s3bx031947gf29yqw0000gp/T/ipykernel_91044/3358780717.py:2: SettingWithCopyWarning: \n",
      "A value is trying to be set on a copy of a slice from a DataFrame.\n",
      "Try using .loc[row_indexer,col_indexer] = value instead\n",
      "\n",
      "See the caveats in the documentation: https://pandas.pydata.org/pandas-docs/stable/user_guide/indexing.html#returning-a-view-versus-a-copy\n",
      "  df_one['end_time'] = pd.to_datetime(df_one['end_time'])\n",
      "/var/folders/5s/0dpn0v6s3bx031947gf29yqw0000gp/T/ipykernel_91044/3358780717.py:5: SettingWithCopyWarning: \n",
      "A value is trying to be set on a copy of a slice from a DataFrame.\n",
      "Try using .loc[row_indexer,col_indexer] = value instead\n",
      "\n",
      "See the caveats in the documentation: https://pandas.pydata.org/pandas-docs/stable/user_guide/indexing.html#returning-a-view-versus-a-copy\n",
      "  df_one['duration'] = (df_one['end_time'] - df_one['start_time']).dt.total_seconds()\n"
     ]
    },
    {
     "data": {
      "text/plain": [
       "6"
      ]
     },
     "execution_count": 5,
     "metadata": {},
     "output_type": "execute_result"
    }
   ],
   "source": [
    "df_one['start_time'] = pd.to_datetime(df_one['start_time'])\n",
    "df_one['end_time'] = pd.to_datetime(df_one['end_time'])\n",
    "\n",
    "# Calculate duration in seconds\n",
    "df_one['duration'] = (df_one['end_time'] - df_one['start_time']).dt.total_seconds()\n",
    "len(df_one)"
   ]
  },
  {
   "cell_type": "code",
   "execution_count": 6,
   "metadata": {},
   "outputs": [
    {
     "name": "stderr",
     "output_type": "stream",
     "text": [
      "/var/folders/5s/0dpn0v6s3bx031947gf29yqw0000gp/T/ipykernel_91044/670161207.py:2: SettingWithCopyWarning: \n",
      "A value is trying to be set on a copy of a slice from a DataFrame.\n",
      "Try using .loc[row_indexer,col_indexer] = value instead\n",
      "\n",
      "See the caveats in the documentation: https://pandas.pydata.org/pandas-docs/stable/user_guide/indexing.html#returning-a-view-versus-a-copy\n",
      "  df_two['query'] = df_two['attributes.input.value'].apply(extract_user_query)\n"
     ]
    },
    {
     "data": {
      "text/plain": [
       "context.span_id\n",
       "a1689290e5833b71    How many pallets were in storage zone 1 from 5...\n",
       "43bf747e9501dcee                                                 None\n",
       "f01c27e5ab19d766    How many pallets were in storage zone 1 from 5...\n",
       "8a600c087c3620dc                                                 None\n",
       "e811e736fa441b71                                                 None\n",
       "1a132013944e0cad                                                 None\n",
       "53002c74775ef510                                                 None\n",
       "754f01b3228efa1a                                                 None\n",
       "67f453350302043a    How many pallets were in storage zone 1 from 5...\n",
       "239f50fb9fea4074                                                 None\n",
       "9b1de5a04a7a4cbf                                                 None\n",
       "Name: query, dtype: object"
      ]
     },
     "execution_count": 6,
     "metadata": {},
     "output_type": "execute_result"
    }
   ],
   "source": [
    "df_two = df[df['context.trace_id'] == 'a94c520a86a3cfc9a9f6aad70b2171b6']\n",
    "df_two['query'] = df_two['attributes.input.value'].apply(extract_user_query)\n",
    "df_two['query']"
   ]
  },
  {
   "cell_type": "code",
   "execution_count": 7,
   "metadata": {},
   "outputs": [],
   "source": [
    "import matplotlib.pyplot as plt\n",
    "import matplotlib.dates as mdates\n",
    "from matplotlib.patches import Patch\n",
    "\n",
    "def create_trace_flow_diagram(df):\n",
    "    \"\"\"\n",
    "    Create a simple flow diagram visualization that doesn't require graphviz.\n",
    "    Each span is plotted separately regardless of name.\n",
    "    \"\"\"\n",
    "    # Sort by start_time\n",
    "    df = df.sort_values('start_time')\n",
    "    \n",
    "    # Calculate seconds from start\n",
    "    min_time = df['start_time'].min()\n",
    "    df['start_seconds'] = (df['start_time'] - min_time).dt.total_seconds()\n",
    "    df['end_seconds'] = (df['end_time'] - min_time).dt.total_seconds()\n",
    "    df['duration'] = df['end_seconds'] - df['start_seconds']\n",
    "    # Filter out spans with very short durations (less than 0.02 seconds)\n",
    "    \n",
    "    df = df[(df['duration'] >= 0.02) & (df['span_kind'] != 'UNKNOWN')]\n",
    "    # Create figure\n",
    "    fig, ax = plt.subplots(figsize=(14, 10))\n",
    "    \n",
    "    # Define colors for different span kinds\n",
    "    colors = {'LLM': 'skyblue', 'CHAIN': 'lightgreen', 'TOOL': 'orange'}\n",
    "    \n",
    "    # Create a vertical timeline with connections\n",
    "    y_positions = {}\n",
    "    max_x = 0\n",
    "    user_query = df['attributes.input.value'].apply(extract_user_query).dropna().iloc[0]\n",
    "    \n",
    "    # First pass: determine y positions for each span\n",
    "    for i, (_, row) in enumerate(df.iterrows()):\n",
    "        span_id = row['context.span_id']\n",
    "        y_positions[span_id] = i\n",
    "    \n",
    "    # Second pass: draw boxes and connections\n",
    "    for i, (_, row) in enumerate(df.iterrows()):\n",
    "        span_id = row['context.span_id']\n",
    "        span_kind = row['span_kind']\n",
    "        name = row['name']\n",
    "        x_start = row['start_seconds']\n",
    "        x_end = row['end_seconds']\n",
    "        max_x = max(max_x, x_end)\n",
    "        \n",
    "        # Draw span box\n",
    "        color = colors.get(span_kind, 'lightgray')\n",
    "        rect = plt.Rectangle((x_start, 0.5*i-0.2), x_end-x_start, 0.4, \n",
    "                           color=color, alpha=0.8, edgecolor='black')\n",
    "  \n",
    "        ax.add_patch(rect)\n",
    "        \n",
    "        # Add label\n",
    "        duration_text = f\"{row['duration']:.2f}s\"\n",
    "        if i == 0:\n",
    "            txt = f\"{name}: {user_query}\\n{row['start_time'].strftime('%Y-%m-%d %H:%M:%S')}\\n{duration_text}\"\n",
    "        else:\n",
    "            txt = f\"{name}\\n{duration_text}\"\n",
    "        ax.text(x_start + (x_end-x_start)/2, 0.5*i-0.05, \n",
    "                txt,\n",
    "                ha='center', va='center', fontsize=8)\n",
    "        \n",
    "    \n",
    "    # Set y-axis ticks (no labels to avoid clutter)\n",
    "    ax.set_yticks([])\n",
    "    \n",
    "    # Set x-axis limits and labels\n",
    "    ax.set_xlim(-1, max_x + 1)\n",
    "    ax.set_ylim(-1, len(df))\n",
    "    ax.set_xlabel('Time (seconds from start)')\n",
    "    \n",
    "    # Add grid for better readability\n",
    "    ax.grid(axis='x', linestyle='--', alpha=0.6)\n",
    "    \n",
    "    # Add title\n",
    "    ax.set_title('Trace Flow Diagram')\n",
    "    \n",
    "\n",
    "\n",
    "    # Create legend handles (these won't be drawn on the plot)\n",
    "    legend_handles = [Patch(color=color, label=kind) for kind, color in colors.items()]\n",
    "\n",
    "    # Add the legend using handles\n",
    "    ax.legend(handles=legend_handles, loc='upper right')\n",
    "    \n",
    "    plt.tight_layout()\n",
    "    return fig\n",
    "\n",
    "def visualize_component_durations(df):\n",
    "    \"\"\"\n",
    "    Create a bar chart to show the duration of each component.\n",
    "    Each span is shown separately regardless of name.\n",
    "    \"\"\"\n",
    "    # Sort by duration (descending)\n",
    "    df_sorted = df = df.sort_values(['start_time', 'end_time'], ascending=[True, False])\n",
    "    \n",
    "    # Create a figure\n",
    "    fig, ax = plt.subplots(figsize=(14, 8))\n",
    "    \n",
    "    # Define colors for different span kinds\n",
    "    colors = {'LLM': 'skyblue', 'CHAIN': 'lightgreen', 'UNKNOWN': 'lightgray', 'TOOL': 'orange'}\n",
    "    \n",
    "    # Get color list based on span_kind\n",
    "    bar_colors = [colors.get(kind, 'lightgray') for kind in df_sorted['span_kind']]\n",
    "    \n",
    "    # Create the bar chart\n",
    "    bars = ax.bar(range(len(df_sorted)), df_sorted['duration'], color=bar_colors)\n",
    "    \n",
    "    # Add bar labels\n",
    "    for i, bar in enumerate(bars):\n",
    "        row = df_sorted.iloc[i]\n",
    "        height = bar.get_height()\n",
    "        ax.text(i, height + 0.1, \n",
    "                f\"{row['name']}\\n{row['context.span_id'][:6]}...\\n{height:.2f}s\", \n",
    "                ha='center', va='bottom', rotation=45, fontsize=8)\n",
    "    \n",
    "    # Add labels and title\n",
    "    ax.set_ylabel('Duration (seconds)')\n",
    "    ax.set_title('Component Durations')\n",
    "    ax.set_xticks([])\n",
    "    \n",
    "    # Add a legend\n",
    "    # Create legend handles (these won't be drawn on the plot)\n",
    "    legend_handles = [Patch(color=color, label=kind) for kind, color in colors.items()]\n",
    "\n",
    "    # Add the legend using handles\n",
    "    ax.legend(handles=legend_handles, loc='upper right')\n",
    "    \n",
    "    # Add grid for better readability\n",
    "    ax.grid(axis='y', linestyle='--', alpha=0.6)\n",
    "    \n",
    "    plt.tight_layout()\n",
    "    return fig\n",
    "\n",
    "\n",
    "def create_trace_summary(df):\n",
    "    \"\"\"\n",
    "    Create a summary of the trace data.\n",
    "    \"\"\"\n",
    "    # Calculate basic statistics\n",
    "    total_spans = len(df)\n",
    "    unique_span_kinds = df['span_kind'].unique()\n",
    "    total_duration = (df['end_time'].max() - df['start_time'].min()).total_seconds()\n",
    "    \n",
    "    # Count by span_kind\n",
    "    span_kind_counts = df['span_kind'].value_counts().to_dict()\n",
    "    \n",
    "    # Count unique names per span_kind\n",
    "    unique_names_per_kind = df.groupby('span_kind')['name'].unique().to_dict()\n",
    "    \n",
    "    # Get user query and final response\n",
    "    chain_spans = df[df['span_kind'] == 'CHAIN']\n",
    "    user_query = None\n",
    "    if not chain_spans.empty and not pd.isna(chain_spans.iloc[0]['user_query']):\n",
    "        user_query = chain_spans.iloc[0]['user_query']\n",
    "    \n",
    "    llm_spans = df[df['span_kind'] == 'LLM']\n",
    "    final_response = None\n",
    "    if not llm_spans.empty and not pd.isna(llm_spans.iloc[-1]['output_value']):\n",
    "        final_response = llm_spans.iloc[-1]['output_value']\n",
    "    \n",
    "    # Calculate average response times per span type\n",
    "    avg_durations = df.groupby('span_kind')['duration'].mean().to_dict()\n",
    "    \n",
    "    # Identify the slowest span\n",
    "    slowest_span_idx = df['duration'].idxmax()\n",
    "    slowest_span = df.loc[slowest_span_idx]\n",
    "    \n",
    "    summary = {\n",
    "        'Total Spans': total_spans,\n",
    "        'Span Types': list(unique_span_kinds),\n",
    "        'Span Counts by Type': span_kind_counts,\n",
    "        'Unique Names by Type': unique_names_per_kind,\n",
    "        'Total Duration (seconds)': total_duration,\n",
    "        'Average Duration by Type (seconds)': avg_durations,\n",
    "        'Slowest Span': {\n",
    "            'Name': slowest_span['name'],\n",
    "            'ID': slowest_span['context.span_id'],\n",
    "            'Kind': slowest_span['span_kind'],\n",
    "            'Duration': slowest_span['duration']\n",
    "        },\n",
    "        'User Query': user_query,\n",
    "        'Final Response': final_response\n",
    "    }\n",
    "    \n",
    "    return summary\n",
    "\n"
   ]
  },
  {
   "cell_type": "code",
   "execution_count": 8,
   "metadata": {},
   "outputs": [
    {
     "name": "stderr",
     "output_type": "stream",
     "text": [
      "/var/folders/5s/0dpn0v6s3bx031947gf29yqw0000gp/T/ipykernel_91044/557296778.py:48: UserWarning: Setting the 'color' property will override the edgecolor or facecolor properties.\n",
      "  rect = plt.Rectangle((x_start, 0.5*i-0.2), x_end-x_start, 0.4,\n"
     ]
    },
    {
     "data": {
      "image/png": "[encoded data removed]",
      "text/plain": [
       "<Figure size 1400x1000 with 1 Axes>"
      ]
     },
     "metadata": {},
     "output_type": "display_data"
    }
   ],
   "source": [
    "fig = create_trace_flow_diagram(df_two)\n",
    "# show this figure in notebook\n",
    "plt.show()\n",
    "fig.savefig(\"trace_timeline.png\")"
   ]
  },
  {
   "cell_type": "code",
   "execution_count": 9,
   "metadata": {},
   "outputs": [
    {
     "data": {
      "text/plain": [
       "'The output should be formatted as a JSON instance that conforms to the JSON schema below.\\n\\nAs an example, for the schema {\"properties\": {\"foo\": {\"title\": \"Foo\", \"description\": \"a list of strings\", \"type\": \"array\", \"items\": {\"type\": \"string\"}}}, \"required\": [\"foo\"]}\\nthe object {\"foo\": [\"bar\", \"baz\"]} is a well-formatted instance of the schema. The object {\"properties\": {\"foo\": [\"bar\", \"baz\"]}} is not well-formatted.\\n\\nHere is the output schema:\\n```\\n{\"description\": \"Input parameters model for Phoenix server queries.\", \"properties\": {\"start_time\": {\"anyOf\": [{\"type\": \"string\"}, {\"type\": \"null\"}], \"default\": null, \"description\": \"The start time to apply to the dataframe for filtering. for last n queries, use last 24 hours\", \"title\": \"Start Time\"}, \"end_time\": {\"anyOf\": [{\"type\": \"string\"}, {\"type\": \"null\"}], \"default\": null, \"description\": \"The end time to apply to the dataframe for filtering. for last n queries, use the current time\", \"title\": \"End Time\"}, \"project_name\": {\"default\": \"default\", \"description\": \"The project name to apply to the dataframe.\", \"title\": \"Project Name\", \"type\": \"string\"}}}\\n```'"
      ]
     },
     "execution_count": 9,
     "metadata": {},
     "output_type": "execute_result"
    }
   ],
   "source": [
    "from pydantic import BaseModel, Field\n",
    "class PxQueryInput(BaseModel):\n",
    "    \"\"\"Input parameters model for Phoenix server queries.\"\"\"\n",
    "\n",
    "    # not used for now, we will filter the dataframe\n",
    "    # filter_conditions: list[str] | None = Field(\n",
    "    #     None,\n",
    "    #     description=\"The filter conditions to apply to the dataframe.\",\n",
    "    # )\n",
    "    start_time: str | None = Field(\n",
    "        None,\n",
    "        description=\"The start time to apply to the dataframe for filtering. for last n queries, use last 24 hours\",\n",
    "    )\n",
    "    end_time: str | None = Field(\n",
    "        None,\n",
    "        description=\"The end time to apply to the dataframe for filtering. for last n queries, use the current time\",\n",
    "    )\n",
    "    project_name: str = Field(\n",
    "        \"default\",\n",
    "        description=\"The project name to apply to the dataframe.\",\n",
    "    )\n",
    "\n",
    "from langchain_core.output_parsers import PydanticOutputParser\n",
    "parser = PydanticOutputParser(pydantic_object=PxQueryInput)\n",
    "parser.get_format_instructions()"
   ]
  },
  {
   "cell_type": "code",
   "execution_count": 10,
   "metadata": {},
   "outputs": [
    {
     "name": "stdout",
     "output_type": "stream",
     "text": [
      "Index(['a1689290e5833b71', '43bf747e9501dcee', 'f01c27e5ab19d766',\n",
      "       '8a600c087c3620dc', 'e811e736fa441b71', '1a132013944e0cad',\n",
      "       '53002c74775ef510', '754f01b3228efa1a', '67f453350302043a',\n",
      "       '239f50fb9fea4074', '9b1de5a04a7a4cbf'],\n",
      "      dtype='object', name='context.span_id')\n",
      "Index(['name', 'span_kind', 'parent_id', 'start_time', 'end_time',\n",
      "       'status_code', 'status_message', 'events', 'context.span_id',\n",
      "       'context.trace_id', 'attributes.aiq', 'attributes.input.mime_type',\n",
      "       'attributes.llm.token_count.prompt', 'attributes.llm.token_count.total',\n",
      "       'attributes.input.value', 'attributes.llm.token_count.completion',\n",
      "       'attributes.openinference.span.kind', 'attributes.output.value',\n",
      "       'query'],\n",
      "      dtype='object')\n"
     ]
    }
   ],
   "source": [
    "print(df_two.index)\n",
    "print(df_two.columns)\n"
   ]
  },
  {
   "cell_type": "code",
   "execution_count": 11,
   "metadata": {},
   "outputs": [
    {
     "data": {
      "text/plain": [
       "<bound method GroupBy.min of <pandas.core.groupby.generic.SeriesGroupBy object at 0x15b257140>>"
      ]
     },
     "execution_count": 11,
     "metadata": {},
     "output_type": "execute_result"
    }
   ],
   "source": [
    "df.groupby(\"context.trace_id\")[\"start_time\"].min"
   ]
  },
  {
   "cell_type": "code",
   "execution_count": 12,
   "metadata": {},
   "outputs": [
    {
     "name": "stderr",
     "output_type": "stream",
     "text": [
      "Error in ToolCallbackHandler.on_tool_start callback: AttributeError(\"'ToolCallbackHandler' object has no attribute 'ignore_agent'\")\n"
     ]
    },
    {
     "name": "stdout",
     "output_type": "stream",
     "text": [
      "{'messages': [ToolMessage(content='Error: AttributeError(\"\\'ToolCallbackHandler\\' object has no attribute \\'raise_error\\'\")\\n Please fix your mistakes.', name='get_weather', tool_call_id='tool_call_id', status='error')]}\n"
     ]
    }
   ],
   "source": [
    "from langchain_core.tools import tool\n",
    "from langgraph.prebuilt import ToolNode\n",
    "from langchain_core.messages import AIMessage\n",
    "from pydantic import BaseModel\n",
    "import base64\n",
    "from typing import Any\n",
    "class WeatherOutput(BaseModel):\n",
    "    weather: str\n",
    "    degrees: int\n",
    "    img: str\n",
    "\n",
    "class Location(BaseModel):\n",
    "    location: str\n",
    "\n",
    "\n",
    "@tool\n",
    "def get_weather(location: Location) -> WeatherOutput:\n",
    "    \"\"\"Call to get the current weather.\"\"\"\n",
    "    location = location.location\n",
    "    import io\n",
    "    buffer = io.BytesIO()\n",
    "    fig.savefig(buffer, format='jpeg', dpi=360)\n",
    "    buffer.seek(0)\n",
    "    img_base64 = base64.b64encode(buffer.read()).decode('utf-8')\n",
    "    if location.lower() in [\"sf\", \"san francisco\"]:\n",
    "        return WeatherOutput(weather=\"It's 60 degrees and foggy.\", degrees=60, img=img_base64)\n",
    "    else:\n",
    "        return WeatherOutput(weather=\"It's 90 degrees and sunny.\", degrees=90, img=img_base64)\n",
    "@tool\n",
    "def get_coolest_cities():\n",
    "    \"\"\"Get a list of coolest cities\"\"\"\n",
    "    return \"nyc, sf\"\n",
    "\n",
    "tool_node = ToolNode(tools=[get_weather, get_coolest_cities])\n",
    "message_with_single_tool_call = AIMessage(\n",
    "    content=\"\",\n",
    "    tool_calls=[\n",
    "        {\n",
    "            \"name\": \"get_weather\",\n",
    "            \"args\": {\"location\": {\"location\": \"sf\"}},\n",
    "            \"id\": \"tool_call_id\",\n",
    "            \"type\": \"tool_call\",\n",
    "        }\n",
    "    ],\n",
    ")\n",
    "\n",
    "class ToolCallbackHandler:\n",
    "    def on_tool_end(self, output: Any, **kwargs: Any) -> None:\n",
    "        print(output)\n",
    "\n",
    "response = tool_node.invoke({\"messages\": [message_with_single_tool_call]},{ \"callbacks\":[ToolCallbackHandler()], \"configurable\":{} })\n",
    "print(response)"
   ]
  },
  {
   "cell_type": "code",
   "execution_count": 13,
   "metadata": {},
   "outputs": [
    {
     "name": "stdout",
     "output_type": "stream",
     "text": [
      "CHAIN <class 'pandas.core.frame.DataFrame'>\n",
      "LLM <class 'pandas.core.frame.DataFrame'>\n",
      "TOOL <class 'pandas.core.frame.DataFrame'>\n",
      "UNKNOWN <class 'pandas.core.frame.DataFrame'>\n"
     ]
    }
   ],
   "source": [
    "for x, y in df.groupby('span_kind'):\n",
    "    print(x, type(y))"
   ]
  },
  {
   "cell_type": "code",
   "execution_count": 28,
   "metadata": {},
   "outputs": [
    {
     "data": {
      "text/plain": [
       "context.span_id\n",
       "5c68e0898df3dcb5                                               hello?\n",
       "4c12528cfe757b27                                               hello?\n",
       "00457833123c01f2                                               hello?\n",
       "6f73b38a818677a5                                               hello?\n",
       "60d034ce029f23e6                                               hello?\n",
       "                                          ...                        \n",
       "53002c74775ef510    How many pallets were in storage zone 1 from 5...\n",
       "754f01b3228efa1a    How many pallets were in storage zone 1 from 5...\n",
       "67f453350302043a    How many pallets were in storage zone 1 from 5...\n",
       "239f50fb9fea4074    How many pallets were in storage zone 1 from 5...\n",
       "9b1de5a04a7a4cbf    How many pallets were in storage zone 1 from 5...\n",
       "Name: user_query, Length: 190, dtype: object"
      ]
     },
     "execution_count": 28,
     "metadata": {},
     "output_type": "execute_result"
    }
   ],
   "source": [
    "def first_valid_query(series):\n",
    "    # Apply extract_user_query to each value\n",
    "    extracted_values = series.apply(extract_user_query)\n",
    "    \n",
    "    # Return the first non-None result\n",
    "    non_none_results = extracted_values.dropna()\n",
    "    if not non_none_results.empty:\n",
    "        return non_none_results.iloc[0]\n",
    "    \n",
    "    return None\n",
    "\n",
    "# Apply to each group\n",
    "mapped =  df.groupby(df[\"context.trace_id\"])['attributes.input.value'].apply(first_valid_query)\n",
    "df[\"user_query\"] = df[\"context.trace_id\"].map(mapped)\n",
    "df[\"user_query\"]\n"
   ]
  }
 ],
 "metadata": {
  "kernelspec": {
   "display_name": ".venv",
   "language": "python",
   "name": "python3"
  },
  "language_info": {
   "codemirror_mode": {
    "name": "ipython",
    "version": 3
   },
   "file_extension": ".py",
   "mimetype": "text/x-python",
   "name": "python",
   "nbconvert_exporter": "python",
   "pygments_lexer": "ipython3",
   "version": "3.12.9"
  }
 },
 "nbformat": 4,
 "nbformat_minor": 2
}
